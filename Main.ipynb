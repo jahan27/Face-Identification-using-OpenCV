{
 "cells": [
  {
   "cell_type": "code",
   "execution_count": 3,
   "metadata": {},
   "outputs": [],
   "source": [
    "import cv2\n",
    "import face_recognition\n",
    "import pickle\n",
    "\n",
    "with open(\"training.pkl\" , \"rb\") as f:\n",
    "    dataset = pickle.load(f)\n",
    "    names = pickle.load(f)\n",
    "\n",
    "cam = cv2.VideoCapture(0)\n",
    "\n",
    "while True:\n",
    "    status , test_image = cam.read()    \n",
    "    test_image_resize = cv2.resize(test_image , (0,0) , fx = 0.33 , fy=0.33)\n",
    "\n",
    "    \n",
    "    test_image_resize = cv2.cvtColor(test_image_resize,cv2.COLOR_BGR2RGB)\n",
    "    face_locations = face_recognition.face_locations(test_image_resize)\n",
    "    face_encodings = face_recognition.face_encodings(test_image_resize , face_locations )\n",
    "\n",
    "    for i,j in zip(face_encodings,face_locations):\n",
    "\n",
    "        result = face_recognition.compare_faces(dataset, i)\n",
    "        if True in result: #this if statement will be true when there is a match\n",
    "            index = result.index(True)\n",
    "            n = names[index]        \n",
    "\n",
    "        else:\n",
    "            n = \"Unknown\"\n",
    "\n",
    "        top = j[0]*3\n",
    "        left = j[1]*3\n",
    "        bottom = j[2]*3\n",
    "        right = j[3]*3\n",
    "\n",
    "        cv2.rectangle(test_image , (left,top) , (right,bottom) , (0,255,0) , 2 )\n",
    "        cv2.putText(test_image , n , (left-70,top-10) , cv2.FONT_HERSHEY_SIMPLEX , 0.55 , (0,0,255) , 1)\n",
    "\n",
    "    #test_image = cv2.cvtColor(test_image,cv2.COLOR_RGB2BGR)\n",
    "    cv2.imshow(\"a\" , test_image)\n",
    "    \n",
    "    if cv2.waitKey(1) == 113:\n",
    "        break\n",
    "    \n",
    "\n",
    "cam.release()\n",
    "cv2.destroyAllWindows()\n",
    "\n",
    "    \n",
    "    "
   ]
  },
  {
   "cell_type": "code",
   "execution_count": null,
   "metadata": {},
   "outputs": [],
   "source": []
  }
 ],
 "metadata": {
  "kernelspec": {
   "display_name": "Python 3",
   "language": "python",
   "name": "python3"
  },
  "language_info": {
   "codemirror_mode": {
    "name": "ipython",
    "version": 3
   },
   "file_extension": ".py",
   "mimetype": "text/x-python",
   "name": "python",
   "nbconvert_exporter": "python",
   "pygments_lexer": "ipython3",
   "version": "3.6.10"
  }
 },
 "nbformat": 4,
 "nbformat_minor": 4
}
