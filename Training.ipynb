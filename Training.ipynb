{
 "cells": [
  {
   "cell_type": "code",
   "execution_count": 1,
   "metadata": {},
   "outputs": [
    {
     "name": "stdout",
     "output_type": "stream",
     "text": [
      "Training Done\n"
     ]
    }
   ],
   "source": [
    "import cv2\n",
    "import face_recognition\n",
    "import pickle\n",
    "import os\n",
    "\n",
    "\n",
    "folder = os.listdir(\"Training_Dataset\")\n",
    "\n",
    "dataset = []\n",
    "names = []\n",
    "\n",
    "for i in folder:\n",
    "    \n",
    "    img_name = \"Training_Dataset/\"+i\n",
    "    img = cv2.imread(img_name)\n",
    "    img = cv2.cvtColor(img , cv2.COLOR_BGR2RGB)\n",
    "    encoding = face_recognition.face_encodings(img)\n",
    "    final_encoding = encoding[0]\n",
    "    dataset.append(final_encoding)\n",
    "    x = i.split('.')\n",
    "    names.append(x[0])\n",
    "\n",
    "\n",
    "\n",
    "\n",
    "data = pickle.dumps(dataset)\n",
    "name = pickle.dumps(namqes)\n",
    "\n",
    "with open(\"training.pkl\" , \"wb\") as f:\n",
    "        f.write(data)\n",
    "        f.write(name)\n",
    "\n",
    "print(\"Training Done\")\n"
   ]
  },
  {
   "cell_type": "code",
   "execution_count": null,
   "metadata": {},
   "outputs": [],
   "source": []
  }
 ],
 "metadata": {
  "kernelspec": {
   "display_name": "Python 3",
   "language": "python",
   "name": "python3"
  },
  "language_info": {
   "codemirror_mode": {
    "name": "ipython",
    "version": 3
   },
   "file_extension": ".py",
   "mimetype": "text/x-python",
   "name": "python",
   "nbconvert_exporter": "python",
   "pygments_lexer": "ipython3",
   "version": "3.6.10"
  }
 },
 "nbformat": 4,
 "nbformat_minor": 4
}
